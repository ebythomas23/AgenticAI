{
 "cells": [
  {
   "cell_type": "code",
   "execution_count": 1,
   "id": "ba091284",
   "metadata": {},
   "outputs": [],
   "source": [
    "from langchain_community.tools import WikipediaQueryRun"
   ]
  },
  {
   "cell_type": "code",
   "execution_count": 2,
   "id": "6d8677d5",
   "metadata": {},
   "outputs": [],
   "source": [
    "from langchain_community.utilities import WikipediaAPIWrapper"
   ]
  },
  {
   "cell_type": "code",
   "execution_count": 3,
   "id": "cf30b451",
   "metadata": {},
   "outputs": [],
   "source": [
    "api_wrapper = WikipediaAPIWrapper(top_k_results=5,doc_content_chars_max=500)"
   ]
  },
  {
   "cell_type": "code",
   "execution_count": 4,
   "id": "ab1a61f4",
   "metadata": {},
   "outputs": [],
   "source": [
    "wiki_tool =WikipediaQueryRun(api_wrapper=api_wrapper)"
   ]
  },
  {
   "cell_type": "code",
   "execution_count": 5,
   "id": "bafd6c2f",
   "metadata": {},
   "outputs": [
    {
     "data": {
      "text/plain": [
       "'wikipedia'"
      ]
     },
     "execution_count": 5,
     "metadata": {},
     "output_type": "execute_result"
    }
   ],
   "source": [
    "wiki_tool.name"
   ]
  },
  {
   "cell_type": "code",
   "execution_count": 6,
   "id": "ba698988",
   "metadata": {},
   "outputs": [
    {
     "data": {
      "text/plain": [
       "'A wrapper around Wikipedia. Useful for when you need to answer general questions about people, places, companies, facts, historical events, or other subjects. Input should be a search query.'"
      ]
     },
     "execution_count": 6,
     "metadata": {},
     "output_type": "execute_result"
    }
   ],
   "source": [
    "wiki_tool.description"
   ]
  },
  {
   "cell_type": "code",
   "execution_count": 7,
   "id": "1522bbe0",
   "metadata": {},
   "outputs": [
    {
     "data": {
      "text/plain": [
       "{'query': {'description': 'query to look up on wikipedia',\n",
       "  'title': 'Query',\n",
       "  'type': 'string'}}"
      ]
     },
     "execution_count": 7,
     "metadata": {},
     "output_type": "execute_result"
    }
   ],
   "source": [
    "wiki_tool.args\n"
   ]
  },
  {
   "cell_type": "code",
   "execution_count": 8,
   "id": "8b138eb5",
   "metadata": {},
   "outputs": [
    {
     "data": {
      "text/plain": [
       "\"Page: Elon Musk\\nSummary: Elon Reeve Musk  ( EE-lon; born June 28, 1971) is a businessman. He is known for his leadership of Tesla, SpaceX, X (formerly Twitter), and the Department of Government Efficiency (DOGE). Musk has been considered the wealthiest person in the world since 2021; as of May 2025, Forbes estimates his net worth to be US$424.7 billion. \\nBorn to a wealthy family in Pretoria, South Africa, Musk emigrated in 1989 to Canada. He received bachelor's degrees from the University of Pen\""
      ]
     },
     "execution_count": 8,
     "metadata": {},
     "output_type": "execute_result"
    }
   ],
   "source": [
    "wiki_tool.run({'query':'elon musk'})"
   ]
  },
  {
   "cell_type": "code",
   "execution_count": 11,
   "id": "e5dd0e26",
   "metadata": {},
   "outputs": [
    {
     "data": {
      "text/plain": [
       "\"Page: Mohanlal\\nSummary: Mohanlal Viswanathan (IPA: [moːhɐnlaːl ʋiʃʋʷɐn̪aːt̪ʰɐn]; born 21 May 1960), known mononymously as Mohanlal, is an Indian actor and filmmaker who predominantly works in Malayalam cinema besides also having sporadically appeared in  Tamil, Hindi, Telugu and Kannada films. Mohanlal has a prolific career spanning over four decades, during which he has acted in more than 400 films. The Government of India honoured him with Padma Shri in 2001, and Padma Bhushan in 2019, India's\""
      ]
     },
     "execution_count": 11,
     "metadata": {},
     "output_type": "execute_result"
    }
   ],
   "source": [
    "wiki_tool.run({'query':\"Mohanlal\"})"
   ]
  },
  {
   "cell_type": "code",
   "execution_count": 18,
   "id": "f5aa25bc",
   "metadata": {},
   "outputs": [],
   "source": [
    "from langchain_community.tools import YouTubeSearchTool"
   ]
  },
  {
   "cell_type": "code",
   "execution_count": 19,
   "id": "44bd0b62",
   "metadata": {},
   "outputs": [],
   "source": [
    "tool =YouTubeSearchTool()"
   ]
  },
  {
   "cell_type": "code",
   "execution_count": 20,
   "id": "bb85ef25",
   "metadata": {},
   "outputs": [
    {
     "data": {
      "text/plain": [
       "{'query': {'title': 'Query', 'type': 'string'}}"
      ]
     },
     "execution_count": 20,
     "metadata": {},
     "output_type": "execute_result"
    }
   ],
   "source": [
    "tool.args"
   ]
  },
  {
   "cell_type": "code",
   "execution_count": 22,
   "id": "21ae4113",
   "metadata": {},
   "outputs": [
    {
     "data": {
      "text/plain": [
       "\"['https://www.youtube.com/watch?v=D3l4U1k-Ho8&pp=ygUNRmlzaGluZ0ZyZWFrcw%3D%3D', 'https://www.youtube.com/watch?v=4gSWw0M7-7g&pp=ygUNRmlzaGluZ0ZyZWFrc9IHCQnNCQGHKiGM7w%3D%3D']\""
      ]
     },
     "execution_count": 22,
     "metadata": {},
     "output_type": "execute_result"
    }
   ],
   "source": [
    "tool.run({'query':'FishingFreaks'})"
   ]
  },
  {
   "cell_type": "code",
   "execution_count": 27,
   "id": "5344b7cc",
   "metadata": {},
   "outputs": [],
   "source": [
    "import os\n",
    "from dotenv import load_dotenv\n",
    "load_dotenv()\n",
    "TAVILY_API_KEY = os.getenv(\"TAVILY_API_KEY\")"
   ]
  },
  {
   "cell_type": "code",
   "execution_count": 28,
   "id": "c1cbc85c",
   "metadata": {},
   "outputs": [],
   "source": [
    "from langchain_community.tools.tavily_search import TavilySearchResults\n"
   ]
  },
  {
   "cell_type": "code",
   "execution_count": 29,
   "id": "80deddc7",
   "metadata": {},
   "outputs": [],
   "source": [
    "tool =TavilySearchResults( tavily_api_key=TAVILY_API_KEY)"
   ]
  },
  {
   "cell_type": "code",
   "execution_count": 30,
   "id": "f88ab98d",
   "metadata": {},
   "outputs": [
    {
     "data": {
      "text/plain": [
       "{'query': {'description': 'search query to look up',\n",
       "  'title': 'Query',\n",
       "  'type': 'string'}}"
      ]
     },
     "execution_count": 30,
     "metadata": {},
     "output_type": "execute_result"
    }
   ],
   "source": [
    "tool.args"
   ]
  },
  {
   "cell_type": "code",
   "execution_count": 31,
   "id": "be73305d",
   "metadata": {},
   "outputs": [
    {
     "data": {
      "text/plain": [
       "[{'title': 'Things to Do in Australia Today - Eventbrite',\n",
       "  'url': 'https://www.eventbrite.com/d/australia/events--today/',\n",
       "  'content': '# Events today in Australia\\n\\nSearch for something you love or check out popular events in your area.\\n\\nFilters\\n\\nSearch for online events\\n\\nPrepare to Grow - Supporting Young People to Develop Life Skills primary image\\n\\nSales end soon\\n\\n### Prepare to Grow - Supporting Young People to Develop Life Skills\\n\\nToday at 9:30 AM\\n\\nCommunity Migrant Resource Centre Parramatta\\n\\nPrepare to Grow - Supporting Young People to Develop Life Skills primary image\\n\\nSales end soon [...] ### Sunshine Coast Murder Mystery: Solve the case!\\n\\nToday at 10:30 PM\\n\\n67 The Esplanade\\n\\nMackay Murder Mystery: Solve the case! primary image\\n\\nSales end soon\\n\\n### Mackay Murder Mystery: Solve the case!\\n\\nToday at 10:30 PM\\n\\nJubliee Park\\n\\nMackay Murder Mystery: Solve the case! primary image\\n\\nSales end soon\\n\\n### Mackay Murder Mystery: Solve the case!\\n\\nToday at 10:30 PM\\n\\nJubliee Park\\n\\nToowoomba Murder Mystery: Solve the case! primary image\\n\\nSales end soon [...] ### Darwin City Murder Mystery: Solve the case!\\n\\nToday at 10:00 PM + 1 more\\n\\n18 Smith St\\n\\nDarwin City Murder Mystery: Solve the case! primary image\\n\\nSales end soon\\n\\n### Darwin City Murder Mystery: Solve the case!\\n\\nToday at 10:00 PM + 1 more\\n\\n18 Smith St\\n\\nSunshine Coast Murder Mystery: Solve the case! primary image\\n\\nSales end soon\\n\\n### Sunshine Coast Murder Mystery: Solve the case!\\n\\nToday at 10:30 PM\\n\\n67 The Esplanade\\n\\nSunshine Coast Murder Mystery: Solve the case! primary image\\n\\nSales end soon',\n",
       "  'score': 0.59033114},\n",
       " {'title': \"Australia's Parliament resumes with pro-Palestinian protests and ...\",\n",
       "  'url': 'https://www.whec.com/ap-top-news/australias-parliament-resumes-with-pro-palestinian-protests-and-calls-for-israel-sanctions/',\n",
       "  'content': 'MELBOURNE, Australia (AP) — Australia’s Parliament resumed Tuesday for the first time since the center-left Labor Party won one of the nation’s largest-ever majorities in the May elections. The day was largely ceremonial, with reminders of conflict in the Middle East. [...] The government will likely prefer to negotiate with the conservatives or Greens to get legislation through the Senate, rather than deal with multiple minor parties and independents.\\n\\nMELBOURNE, Australia (AP) — Australia’s Parliament resumed Tuesday for the first time since the center-left Labor Party won one of the nation’s largest-ever majorities in the May elections. The day was largely ceremonial, with reminders of conflict in the Middle East. [...] Hundreds of pro-Palestinian demonstrators gathered outside Parliament House on Tuesday, calling for the government to impose sanctions on Israel after Australia joined another 27 countries in issuing a joint statement, saying the war in Gaza “must end now.”',\n",
       "  'score': 0.4286405},\n",
       " {'title': \"Australia's Parliament resumes with pro-Palestinian protests and ...\",\n",
       "  'url': 'https://www.clickorlando.com/news/world/2025/07/22/australian-parliament-resumes-after-labors-landslide-election-victory/',\n",
       "  'content': \"MELBOURNE – Australia’s Parliament resumed Tuesday for the first time since the center-left Labor Party won one of the nation’s largest-ever majorities in the May elections. The day was largely ceremonial, with reminders of conflict in the Middle East. [...] Hundreds of pro-Palestinian demonstrators gathered outside Parliament House on Tuesday, calling for the government to impose sanctions on Israel after Australia joined another 27 countries in issuing a joint statement, saying the war in Gaza “must end now.”\\n\\nRecommended Videos [...] # Australia's Parliament resumes with pro-Palestinian protests and calls for Israel sanctions\\n\\nRod Mcguirk\\n\\nAssociated Press\\n\\nAAP\\n\\nGreens Senator Mehreen Faruqi holds a placard as Australian Prime Minister Anthony Albanese walks in the Senate chamber for the opening of the 48th Federal Parliament at Parliament House in Canberra, Australia, Tuesday, July 22, 2025. (Lukas Coch/AAP Image via AP)\",\n",
       "  'score': 0.391802},\n",
       " {'title': \"Australian Parliament resumes after Labor's landslide election victory\",\n",
       "  'url': 'https://spectrumlocalnews.com/tx/austin/ap-top-news/2025/07/22/australian-parliament-resumes-after-labors-landslide-election-victory',\n",
       "  'content': \"MELBOURNE, Australia (AP) â\\x80\\x94 Australiaâ\\x80\\x99s Parliament resumed Tuesday for the first time since the center-left Labor Party won one of the nationâ\\x80\\x99s largest-ever majorities in the May elections. [...] Get the best experience and stay connected to your community with our Spectrum News app. Learn More\\n\\nGet the best experience and stay connected to your community with our Spectrum News app. Learn More\\n\\nContinue in Browser\\n\\nprofile icon\\n\\nGet hyperlocal forecasts, radar and weather alerts.\\n\\nPlease enter a valid zipcode.\\n\\nSave\\n\\nclose\\nregion image\\ncheck\\ncheck\\nclose\\ncheck\\nclose\\n\\nclose\\n\\n# Australian Parliament resumes after Labor's landslide election victory [...] Howard stayed in power almost 12 years, and Albanese is the first prime minister since then to lead a party to consecutive election victories, following an extraordinary era of political instability.\\n\\nThe main opposition Liberal Party has elected its first woman leader, Sussan Ley, after one of the partyâ\\x80\\x99s worst election results on record.\",\n",
       "  'score': 0.34541488},\n",
       " {'title': 'Australia condemns Israel as calls for sanctions grow louder',\n",
       "  'url': 'https://www.abc.net.au/news/2025-07-22/australia-israel-joint-statement-gaza/105558972',\n",
       "  'content': 'man and woman stand in kitchen looking uphappy\\n\\n## Related topics\\n\\nAustralia\\n\\nForeign Affairs\\n\\nForeign Aid\\n\\nUnrest, Conflict and War\\n\\nWorld Politics\\n\\n## Top Stories\\n\\n### Hospital terminates neurosurgeon after Four Corners investigation\\n\\nTopic:Doctors and Medical Professionals\\n\\nA man with short buzzed red hair wears dark grey-blue surgical scrubs while sitting in front of a laptop at a desk in an office.\\n\\n### Greens co-founder slams party as \\'authoritarian, aggressive, unlikeable\\' [...] The shocking daily tally of men, women and children killed while standing in line awaiting food and water — currently estimated at just under 1,000 people — has now seen a joint statement issued from 28 countries (including Australia, the UK, Canada and Japan, but not the US and Germany) condemning Israel for the \"drip feeding of aid\" and \"inhumane killing of civilians\" in Gaza.\\n\\nGaza aid [...] But as the relentless destruction of so much of Gaza, and the loss of so much human life continued — even amid protests and objections in Israel — the \"measured\" responses of Western governments, including Australia\\'s, looked increasingly out of step with both what was seen occurring every day, and with the growing public disquiet.\\n\\n## Increasingly, a rogue state',\n",
       "  'score': 0.24032012}]"
      ]
     },
     "execution_count": 31,
     "metadata": {},
     "output_type": "execute_result"
    }
   ],
   "source": [
    "tool.run({\"query\":\"what happend in australia today\"})"
   ]
  }
 ],
 "metadata": {
  "kernelspec": {
   "display_name": "agentic_ai_2.0",
   "language": "python",
   "name": "python3"
  },
  "language_info": {
   "codemirror_mode": {
    "name": "ipython",
    "version": 3
   },
   "file_extension": ".py",
   "mimetype": "text/x-python",
   "name": "python",
   "nbconvert_exporter": "python",
   "pygments_lexer": "ipython3",
   "version": "3.13.5"
  }
 },
 "nbformat": 4,
 "nbformat_minor": 5
}
